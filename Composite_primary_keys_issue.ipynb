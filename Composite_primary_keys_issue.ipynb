{
 "cells": [
  {
   "cell_type": "markdown",
   "id": "dffb4e30",
   "metadata": {},
   "source": [
    "# The Issue Description"
   ]
  },
  {
   "cell_type": "markdown",
   "id": "ad841b7b",
   "metadata": {},
   "source": [
    "Let's consider following:\n",
    "\n",
    "- We have a food delivery service and we're able to provide it for different restaurants in New York.\n",
    "- We need couriers for it and there are three possible delivery types: couriers of our service, restaurant's couriers (in case if they have their own delivery) and our partners from some taxi service.\n",
    "- We have our own sales and support managers. They are able to manage some data related to restaurants manually via web-services and it's a part of some common infrastructure including DWH, BI tools, etc. Let's consider that all ETL processes don't fail and we can fully observe our service.\n",
    "- Right now we're interested only in such entities as restaurants and its orders."
   ]
  },
  {
   "cell_type": "code",
   "execution_count": 392,
   "id": "77887b8f",
   "metadata": {
    "ExecuteTime": {
     "end_time": "2022-08-07T17:11:50.291657Z",
     "start_time": "2022-08-07T17:11:50.142364Z"
    }
   },
   "outputs": [],
   "source": [
    "import pandas as pd \n",
    "import xxhash as xx \n",
    "import h3\n",
    "import numpy as np\n",
    "\n",
    "#sample of restaurants which are partners of our delivery service\n",
    "df_restaurants = pd.read_excel(\"sample_restaurants.xlsx\")\n",
    "#sample of orders from these restaurants\n",
    "df_orders = pd.read_excel(\"sample_orders.xlsx\")"
   ]
  },
  {
   "cell_type": "code",
   "execution_count": 393,
   "id": "970f2ad6",
   "metadata": {
    "ExecuteTime": {
     "end_time": "2022-08-07T17:11:52.220305Z",
     "start_time": "2022-08-07T17:11:52.210073Z"
    }
   },
   "outputs": [
    {
     "data": {
      "text/plain": [
       "id                  int64\n",
       "name               object\n",
       "address            object\n",
       "lat               float64\n",
       "lon               float64\n",
       "city               object\n",
       "delivery_type      object\n",
       "enabled_status     object\n",
       "dtype: object"
      ]
     },
     "execution_count": 393,
     "metadata": {},
     "output_type": "execute_result"
    }
   ],
   "source": [
    "df_restaurants.dtypes"
   ]
  },
  {
   "cell_type": "code",
   "execution_count": 394,
   "id": "c47b1245",
   "metadata": {
    "ExecuteTime": {
     "end_time": "2022-08-07T17:11:54.365460Z",
     "start_time": "2022-08-07T17:11:54.353240Z"
    }
   },
   "outputs": [
    {
     "data": {
      "text/html": [
       "<div>\n",
       "<style scoped>\n",
       "    .dataframe tbody tr th:only-of-type {\n",
       "        vertical-align: middle;\n",
       "    }\n",
       "\n",
       "    .dataframe tbody tr th {\n",
       "        vertical-align: top;\n",
       "    }\n",
       "\n",
       "    .dataframe thead th {\n",
       "        text-align: right;\n",
       "    }\n",
       "</style>\n",
       "<table border=\"1\" class=\"dataframe\">\n",
       "  <thead>\n",
       "    <tr style=\"text-align: right;\">\n",
       "      <th></th>\n",
       "      <th>id</th>\n",
       "      <th>name</th>\n",
       "      <th>address</th>\n",
       "      <th>lat</th>\n",
       "      <th>lon</th>\n",
       "      <th>city</th>\n",
       "      <th>delivery_type</th>\n",
       "      <th>enabled_status</th>\n",
       "    </tr>\n",
       "  </thead>\n",
       "  <tbody>\n",
       "    <tr>\n",
       "      <th>0</th>\n",
       "      <td>101504</td>\n",
       "      <td>The Smith</td>\n",
       "      <td>55 3rd Ave</td>\n",
       "      <td>40.73182</td>\n",
       "      <td>-73.98871</td>\n",
       "      <td>New York</td>\n",
       "      <td>restaurant courier</td>\n",
       "      <td>enabled</td>\n",
       "    </tr>\n",
       "    <tr>\n",
       "      <th>1</th>\n",
       "      <td>114640</td>\n",
       "      <td>The Smith</td>\n",
       "      <td>55 Third Ave</td>\n",
       "      <td>40.73182</td>\n",
       "      <td>-73.98871</td>\n",
       "      <td>New York</td>\n",
       "      <td>our courier</td>\n",
       "      <td>enabled</td>\n",
       "    </tr>\n",
       "    <tr>\n",
       "      <th>2</th>\n",
       "      <td>114872</td>\n",
       "      <td>The Smith's</td>\n",
       "      <td>55 3rd Ave</td>\n",
       "      <td>40.73182</td>\n",
       "      <td>-73.98871</td>\n",
       "      <td>New York</td>\n",
       "      <td>taxi courier</td>\n",
       "      <td>enabled</td>\n",
       "    </tr>\n",
       "  </tbody>\n",
       "</table>\n",
       "</div>"
      ],
      "text/plain": [
       "       id         name       address       lat       lon      city  \\\n",
       "0  101504    The Smith    55 3rd Ave  40.73182 -73.98871  New York   \n",
       "1  114640    The Smith  55 Third Ave  40.73182 -73.98871  New York   \n",
       "2  114872  The Smith's    55 3rd Ave  40.73182 -73.98871  New York   \n",
       "\n",
       "        delivery_type enabled_status  \n",
       "0  restaurant courier        enabled  \n",
       "1         our courier        enabled  \n",
       "2        taxi courier        enabled  "
      ]
     },
     "execution_count": 394,
     "metadata": {},
     "output_type": "execute_result"
    }
   ],
   "source": [
    "df_restaurants[:3]"
   ]
  },
  {
   "cell_type": "code",
   "execution_count": 395,
   "id": "4a2a09e5",
   "metadata": {
    "ExecuteTime": {
     "end_time": "2022-08-07T17:11:56.256813Z",
     "start_time": "2022-08-07T17:11:56.250349Z"
    }
   },
   "outputs": [
    {
     "data": {
      "text/plain": [
       "id                        int64\n",
       "order_date       datetime64[ns]\n",
       "order_amount            float64\n",
       "restaurant_id             int64\n",
       "dtype: object"
      ]
     },
     "execution_count": 395,
     "metadata": {},
     "output_type": "execute_result"
    }
   ],
   "source": [
    "df_orders.dtypes"
   ]
  },
  {
   "cell_type": "code",
   "execution_count": 396,
   "id": "e62e3bcf",
   "metadata": {
    "ExecuteTime": {
     "end_time": "2022-08-07T17:11:58.278164Z",
     "start_time": "2022-08-07T17:11:58.265447Z"
    }
   },
   "outputs": [
    {
     "data": {
      "text/html": [
       "<div>\n",
       "<style scoped>\n",
       "    .dataframe tbody tr th:only-of-type {\n",
       "        vertical-align: middle;\n",
       "    }\n",
       "\n",
       "    .dataframe tbody tr th {\n",
       "        vertical-align: top;\n",
       "    }\n",
       "\n",
       "    .dataframe thead th {\n",
       "        text-align: right;\n",
       "    }\n",
       "</style>\n",
       "<table border=\"1\" class=\"dataframe\">\n",
       "  <thead>\n",
       "    <tr style=\"text-align: right;\">\n",
       "      <th></th>\n",
       "      <th>id</th>\n",
       "      <th>order_date</th>\n",
       "      <th>order_amount</th>\n",
       "      <th>restaurant_id</th>\n",
       "    </tr>\n",
       "  </thead>\n",
       "  <tbody>\n",
       "    <tr>\n",
       "      <th>0</th>\n",
       "      <td>1035539</td>\n",
       "      <td>2022-08-01</td>\n",
       "      <td>68.16</td>\n",
       "      <td>101502</td>\n",
       "    </tr>\n",
       "    <tr>\n",
       "      <th>1</th>\n",
       "      <td>1523336</td>\n",
       "      <td>2022-08-01</td>\n",
       "      <td>64.53</td>\n",
       "      <td>101502</td>\n",
       "    </tr>\n",
       "    <tr>\n",
       "      <th>2</th>\n",
       "      <td>1807144</td>\n",
       "      <td>2022-08-01</td>\n",
       "      <td>50.04</td>\n",
       "      <td>101502</td>\n",
       "    </tr>\n",
       "  </tbody>\n",
       "</table>\n",
       "</div>"
      ],
      "text/plain": [
       "        id order_date  order_amount  restaurant_id\n",
       "0  1035539 2022-08-01         68.16         101502\n",
       "1  1523336 2022-08-01         64.53         101502\n",
       "2  1807144 2022-08-01         50.04         101502"
      ]
     },
     "execution_count": 396,
     "metadata": {},
     "output_type": "execute_result"
    }
   ],
   "source": [
    "df_orders[:3]"
   ]
  },
  {
   "cell_type": "markdown",
   "id": "4de8f1be",
   "metadata": {},
   "source": [
    "We found out that one primary key in restaurant's entity means not physically restaurant but the restaurant plus its delivery type: in case if restaurant has its own couriers and we propose our courier service we have to sign two different working agreement with two different legal entities. \n",
    "\n",
    "Like in the following example."
   ]
  },
  {
   "cell_type": "code",
   "execution_count": 397,
   "id": "b3224e2f",
   "metadata": {
    "ExecuteTime": {
     "end_time": "2022-08-07T17:12:31.208532Z",
     "start_time": "2022-08-07T17:12:31.204028Z"
    }
   },
   "outputs": [],
   "source": [
    "#udf only for printing\n",
    "def print_data(df, i:int)->str:\n",
    "    print (df.at[i, \"id\"], df.at[i, \"name\"], df.at[i, \"address\"], df.at[i, \"city\"], df.at[i, \"lat\"], df.at[i, \"lon\"], df.at[i, \"delivery_type\"], df.at[i, \"enabled_status\"], sep = \"; \")"
   ]
  },
  {
   "cell_type": "code",
   "execution_count": 398,
   "id": "1b7480a0",
   "metadata": {
    "ExecuteTime": {
     "end_time": "2022-08-07T17:12:32.996182Z",
     "start_time": "2022-08-07T17:12:32.989680Z"
    }
   },
   "outputs": [
    {
     "name": "stdout",
     "output_type": "stream",
     "text": [
      "105964; Bubby's; 120 Hudson St; NY; 40.7227624952702; -74.0084837478272; restaurant courier; enabled\n",
      "108235; Bubby's; 120 Hudson Street; NY; 40.7227624952702; -74.0084837478272; our courier; enabled\n"
     ]
    }
   ],
   "source": [
    "print_data(df_restaurants,9)\n",
    "print_data(df_restaurants,10)"
   ]
  },
  {
   "cell_type": "markdown",
   "id": "9e1537d3",
   "metadata": {},
   "source": [
    "As it was mentioned above, the same restaurant using two different delivery types is allocated to different ids.\n",
    "\n",
    "Moreover, after some analysis we figure out quite common problem of manually edited systems: the same entities (restaurants in this case) can have a bit different corresponding data. "
   ]
  },
  {
   "cell_type": "markdown",
   "id": "d1d288fd",
   "metadata": {},
   "source": [
    "Some differences in names:"
   ]
  },
  {
   "cell_type": "code",
   "execution_count": 399,
   "id": "f88d76de",
   "metadata": {
    "ExecuteTime": {
     "end_time": "2022-08-07T17:14:18.114406Z",
     "start_time": "2022-08-07T17:14:18.110203Z"
    }
   },
   "outputs": [
    {
     "name": "stdout",
     "output_type": "stream",
     "text": [
      "101504; The Smith; 55 3rd Ave; New York; 40.73182; -73.98871; restaurant courier; enabled\n",
      "114872; The Smith's; 55 3rd Ave; New York; 40.73182; -73.98871; taxi courier; enabled\n"
     ]
    }
   ],
   "source": [
    "print_data(df_restaurants,0)\n",
    "print_data(df_restaurants,2)"
   ]
  },
  {
   "cell_type": "markdown",
   "id": "2bacef00",
   "metadata": {},
   "source": [
    "Some differences in addresses:"
   ]
  },
  {
   "cell_type": "code",
   "execution_count": 400,
   "id": "280fe130",
   "metadata": {
    "ExecuteTime": {
     "end_time": "2022-08-07T17:14:20.034530Z",
     "start_time": "2022-08-07T17:14:20.031111Z"
    }
   },
   "outputs": [
    {
     "name": "stdout",
     "output_type": "stream",
     "text": [
      "114640; The Smith; 55 Third Ave; New York; 40.73182; -73.98871; our courier; enabled\n",
      "114872; The Smith's; 55 3rd Ave; New York; 40.73182; -73.98871; taxi courier; enabled\n"
     ]
    }
   ],
   "source": [
    "print_data(df_restaurants,1)\n",
    "print_data(df_restaurants,2)"
   ]
  },
  {
   "cell_type": "markdown",
   "id": "14597bbe",
   "metadata": {},
   "source": [
    "Some differences in coordinates:"
   ]
  },
  {
   "cell_type": "code",
   "execution_count": 401,
   "id": "77c580f9",
   "metadata": {
    "ExecuteTime": {
     "end_time": "2022-08-07T17:14:27.249956Z",
     "start_time": "2022-08-07T17:14:27.246492Z"
    }
   },
   "outputs": [
    {
     "name": "stdout",
     "output_type": "stream",
     "text": [
      "102931; The Smith; 956 2nd Ave; New York, NY; 40.75788413292; -73.96870317501; our courier; enabled\n",
      "121805; The Smith; 956 2nd Ave; New York; 40.7578841329251; -73.9687031750197; restaurant courier; enabled\n"
     ]
    }
   ],
   "source": [
    "print_data(df_restaurants,4)\n",
    "print_data(df_restaurants,3)"
   ]
  },
  {
   "cell_type": "markdown",
   "id": "18f5148a",
   "metadata": {},
   "source": [
    "Basically it's a case of the same restaurants with different delivery types but in case of changing some data (name, address, etc.) the existing row with data would not be updated but other row would be inserted as well as old id would be deactivated. We can notice it according to some differences in current workable statuses:"
   ]
  },
  {
   "cell_type": "code",
   "execution_count": 402,
   "id": "6909c86e",
   "metadata": {
    "ExecuteTime": {
     "end_time": "2022-08-07T17:14:29.272902Z",
     "start_time": "2022-08-07T17:14:29.268762Z"
    }
   },
   "outputs": [
    {
     "name": "stdout",
     "output_type": "stream",
     "text": [
      "102845; Rubirosa Bar; 235 Mulberry St; New York; 40.7258283949511; -73.9958416166388; our courier; enabled\n",
      "102842; Rubirosa bar; 235 Mulberry St; New York; 40.7258283949511; -73.9958416166388; our courier; disabled\n",
      "102837; Rubirosa bar; 235 Mulberry St; New York; 40.7258283949; -73.9958416166; our courier; disabled\n",
      "100923; Rubirosa bar; 235 Mulberry St; New York; 40.7258283949; -73.9958416166; our courier; disabled\n"
     ]
    }
   ],
   "source": [
    "print_data(df_restaurants,8)\n",
    "print_data(df_restaurants,16)\n",
    "print_data(df_restaurants,17)\n",
    "print_data(df_restaurants,18)"
   ]
  },
  {
   "cell_type": "markdown",
   "id": "c56c0e89",
   "metadata": {},
   "source": [
    "Finally: we need to create the composite primary key of restaurants. In case if we want (sure, we do) to evaluate some statistics regarding restaurants we would not be able to do it due to unexisting of fields with the same values to the same restaurants. \n",
    "\n",
    "That's quite common issue for different CRM-systems: for example, a customer fills the landing web-page where specifies own name, surname and patronymic. After some time the customer provides this data for another page and doesn't leave patronymic field empty. In this case the customer could be counted twice as two separate users."
   ]
  },
  {
   "cell_type": "markdown",
   "id": "9afa66e6",
   "metadata": {},
   "source": [
    "# New keys creation "
   ]
  },
  {
   "cell_type": "code",
   "execution_count": 403,
   "id": "81058c36",
   "metadata": {
    "ExecuteTime": {
     "end_time": "2022-08-07T17:15:36.257978Z",
     "start_time": "2022-08-07T17:15:36.251856Z"
    }
   },
   "outputs": [],
   "source": [
    "#we need to drop from original names the most frequent types of restaurant like 'bar', 'cafe', etc. as well as all special symbols \n",
    "\n",
    "black_list = [\n",
    "    \"pub\", \"bar\", \"bistro\", \"restaurant\", \"pizzeria\", \"club\", \"gastropub\", \"restopub\", \"chaihana\", \"chaihona\", \"café\", \"cafe\", \"caffe\", \"caffé\"\n",
    "]\n",
    "deleted_list = [\n",
    "    \" \", \"!\", \"№\", \";\", \"%\", \":\", \"?\", \"*\", \"(\", \")\", \"[\", \"]\", \"{\", \"}\", \n",
    "     \"/\", \".\", \"=\", \"+\", \"-\", \"_\", \"@\", \"#\", \"$\", \"^\", \"&\", \"\\\\\", \",\", \"<\", \">\", \"'\"\n",
    "]\n",
    "          \n",
    "#here we're going to clean up the original names\n",
    "def string_cleaned(string: str, substitution_value: str) -> str: \n",
    "    string_splitted = (string.lower()).split(\" \")\n",
    "\n",
    "    string_cleaned = \"\"\n",
    "    for idx, value in enumerate(string_splitted):\n",
    "        if value in black_list:\n",
    "            continue\n",
    "        else:\n",
    "            string_cleaned += value\n",
    "            \n",
    "    string_removed = \"\"\n",
    "    for idx, value in enumerate(string_cleaned):\n",
    "        if value in deleted_list:\n",
    "            continue\n",
    "        else:\n",
    "            string_removed += value\n",
    "            \n",
    "    string_result = string_removed if string_removed is not None and string_removed != \"\" else substitution_value\n",
    "    return string_result"
   ]
  },
  {
   "cell_type": "markdown",
   "id": "b1f50b48",
   "metadata": {},
   "source": [
    "Let's take a look at the result of this udf."
   ]
  },
  {
   "cell_type": "code",
   "execution_count": 405,
   "id": "36092fc3",
   "metadata": {
    "ExecuteTime": {
     "end_time": "2022-08-07T17:16:24.456343Z",
     "start_time": "2022-08-07T17:16:24.452130Z"
    }
   },
   "outputs": [
    {
     "name": "stdout",
     "output_type": "stream",
     "text": [
      "#GAMARJOBA restaurant => gamarjoba\n",
      " Gastropub Rogor!!!    => rogor\n",
      "Xar, bar => xar\n",
      " => unknown\n"
     ]
    }
   ],
   "source": [
    "example_names = [\"#GAMARJOBA restaurant\", \" Gastropub Rogor!!!   \", \"Xar, bar\", \"\"]\n",
    "\n",
    "for idx, value in enumerate(example_names):\n",
    "    print (value, string_cleaned(value, \"unknown\"), sep = \" => \")"
   ]
  },
  {
   "cell_type": "code",
   "execution_count": 406,
   "id": "dcfa31d1",
   "metadata": {
    "ExecuteTime": {
     "end_time": "2022-08-07T17:16:26.548978Z",
     "start_time": "2022-08-07T17:16:26.544759Z"
    }
   },
   "outputs": [],
   "source": [
    "#due to possibility of different length of latitude and longitude we're going to assign each point to the cossresponding hexagon. \n",
    "#the attribute resolution below means the square of hexagon, you can read about it here: https://h3geo.org/docs/core-library/restable\n",
    "\n",
    "def h3_hexagons(lat: float, lon: float, resolution: int, substitution_value: str) -> str:\n",
    "    h3geo = h3.geo_to_h3(lat, lon, resolution) if lat is not None and lat != \"\" and lon is not None and lon != \"\" else substitution_value\n",
    "    return h3geo"
   ]
  },
  {
   "cell_type": "code",
   "execution_count": 407,
   "id": "eb382483",
   "metadata": {
    "ExecuteTime": {
     "end_time": "2022-08-07T17:16:28.236465Z",
     "start_time": "2022-08-07T17:16:28.232724Z"
    }
   },
   "outputs": [],
   "source": [
    "#now we want to create the composite key from a part of cleaned name and its hexagon. I'll explain additionally the reasons why I prefer to use a part of name instead of Levenshtein distance or some related libraries like FuzzyWuzzy, for example. \n",
    "def hash_result (string_cleaned:str, h3:str, start_point:int, end_point:int)->int:\n",
    "    \n",
    "    string_for_hash = string_cleaned[start_point:end_point]\n",
    "    string_for_hash += h3\n",
    "    hash_result = xx.xxh32()\n",
    "    hash_result.update(string_for_hash)\n",
    "    return hash_result.intdigest()"
   ]
  },
  {
   "cell_type": "markdown",
   "id": "e378a7d7",
   "metadata": {},
   "source": [
    "Finally, we create new identifier for each row and guess it would be same for different ids of the same physically existing restaurant. \n",
    "\n",
    "In case of some problems we will always substitute the algorithm result by the original id of the row."
   ]
  },
  {
   "cell_type": "code",
   "execution_count": 408,
   "id": "25a43ae3",
   "metadata": {
    "ExecuteTime": {
     "end_time": "2022-08-07T17:16:29.753157Z",
     "start_time": "2022-08-07T17:16:29.738977Z"
    }
   },
   "outputs": [],
   "source": [
    "df = df_restaurants.copy()\n",
    "df[\"cleaned_name\"] = \"\"\n",
    "df[\"h3geo\"] = \"\"\n",
    "df[\"new_id\"] = \"\"\n",
    "\n",
    "for i in range(df.shape[0]):\n",
    "    df.at[i, \"cleaned_name\"] = string_cleaned(df.at[i, \"name\"], df.at[i, \"id\"].astype(\"str\"))\n",
    "    df.at[i, \"h3geo\"] = h3_hexagons(df.at[i, \"lat\"], df.at[i, \"lon\"], 10, df.at[i, \"id\"].astype(\"str\"))\n",
    "    df.at[i, \"new_id\"] = hash_result(df.at[i, \"cleaned_name\"], df.at[i, \"h3geo\"], 1, 4)\n",
    "    "
   ]
  },
  {
   "cell_type": "markdown",
   "id": "60cf481c",
   "metadata": {},
   "source": [
    "Well, now we have the unique id for each physically existing restaurant regardless its data duplication or some string patterns issues."
   ]
  },
  {
   "cell_type": "code",
   "execution_count": 410,
   "id": "20f0c4f9",
   "metadata": {
    "ExecuteTime": {
     "end_time": "2022-08-07T17:16:40.610579Z",
     "start_time": "2022-08-07T17:16:40.597976Z"
    }
   },
   "outputs": [
    {
     "data": {
      "text/html": [
       "<div>\n",
       "<style scoped>\n",
       "    .dataframe tbody tr th:only-of-type {\n",
       "        vertical-align: middle;\n",
       "    }\n",
       "\n",
       "    .dataframe tbody tr th {\n",
       "        vertical-align: top;\n",
       "    }\n",
       "\n",
       "    .dataframe thead th {\n",
       "        text-align: right;\n",
       "    }\n",
       "</style>\n",
       "<table border=\"1\" class=\"dataframe\">\n",
       "  <thead>\n",
       "    <tr style=\"text-align: right;\">\n",
       "      <th></th>\n",
       "      <th>id</th>\n",
       "      <th>name</th>\n",
       "      <th>address</th>\n",
       "      <th>lat</th>\n",
       "      <th>lon</th>\n",
       "      <th>city</th>\n",
       "      <th>delivery_type</th>\n",
       "      <th>enabled_status</th>\n",
       "      <th>cleaned_name</th>\n",
       "      <th>h3geo</th>\n",
       "      <th>new_id</th>\n",
       "    </tr>\n",
       "  </thead>\n",
       "  <tbody>\n",
       "    <tr>\n",
       "      <th>19</th>\n",
       "      <td>100016</td>\n",
       "      <td>Upland</td>\n",
       "      <td>345 Park Ave S</td>\n",
       "      <td>40.744221</td>\n",
       "      <td>-73.985054</td>\n",
       "      <td>New York</td>\n",
       "      <td>taxi courier</td>\n",
       "      <td>enabled</td>\n",
       "      <td>upland</td>\n",
       "      <td>8a2a100d2107fff</td>\n",
       "      <td>216754633</td>\n",
       "    </tr>\n",
       "    <tr>\n",
       "      <th>5</th>\n",
       "      <td>101938</td>\n",
       "      <td>Upland</td>\n",
       "      <td>345 Park Ave S</td>\n",
       "      <td>40.744221</td>\n",
       "      <td>-73.985054</td>\n",
       "      <td>New York</td>\n",
       "      <td>restaurant courier</td>\n",
       "      <td>enabled</td>\n",
       "      <td>upland</td>\n",
       "      <td>8a2a100d2107fff</td>\n",
       "      <td>216754633</td>\n",
       "    </tr>\n",
       "    <tr>\n",
       "      <th>6</th>\n",
       "      <td>116843</td>\n",
       "      <td>Upland Café</td>\n",
       "      <td>345 Park Ave S</td>\n",
       "      <td>40.744221</td>\n",
       "      <td>-73.985054</td>\n",
       "      <td>New York</td>\n",
       "      <td>our courier</td>\n",
       "      <td>enabled</td>\n",
       "      <td>upland</td>\n",
       "      <td>8a2a100d2107fff</td>\n",
       "      <td>216754633</td>\n",
       "    </tr>\n",
       "    <tr>\n",
       "      <th>13</th>\n",
       "      <td>118329</td>\n",
       "      <td>Charlie Palmer Steak</td>\n",
       "      <td>135 42nd St</td>\n",
       "      <td>40.756730</td>\n",
       "      <td>-73.985130</td>\n",
       "      <td>NY</td>\n",
       "      <td>taxi courier</td>\n",
       "      <td>enabled</td>\n",
       "      <td>charliepalmersteak</td>\n",
       "      <td>8a2a100d679ffff</td>\n",
       "      <td>1110467645</td>\n",
       "    </tr>\n",
       "    <tr>\n",
       "      <th>12</th>\n",
       "      <td>100924</td>\n",
       "      <td>Charlie Palmer Steak NYC</td>\n",
       "      <td>135 W 42nd St</td>\n",
       "      <td>40.756727</td>\n",
       "      <td>-73.985135</td>\n",
       "      <td>New York</td>\n",
       "      <td>our courier</td>\n",
       "      <td>enabled</td>\n",
       "      <td>charliepalmersteaknyc</td>\n",
       "      <td>8a2a100d679ffff</td>\n",
       "      <td>1110467645</td>\n",
       "    </tr>\n",
       "  </tbody>\n",
       "</table>\n",
       "</div>"
      ],
      "text/plain": [
       "        id                      name         address        lat        lon  \\\n",
       "19  100016                    Upland  345 Park Ave S  40.744221 -73.985054   \n",
       "5   101938                    Upland  345 Park Ave S  40.744221 -73.985054   \n",
       "6   116843               Upland Café  345 Park Ave S  40.744221 -73.985054   \n",
       "13  118329      Charlie Palmer Steak     135 42nd St  40.756730 -73.985130   \n",
       "12  100924  Charlie Palmer Steak NYC   135 W 42nd St  40.756727 -73.985135   \n",
       "\n",
       "        city       delivery_type enabled_status           cleaned_name  \\\n",
       "19  New York        taxi courier        enabled                 upland   \n",
       "5   New York  restaurant courier        enabled                 upland   \n",
       "6   New York         our courier        enabled                 upland   \n",
       "13        NY        taxi courier        enabled     charliepalmersteak   \n",
       "12  New York         our courier        enabled  charliepalmersteaknyc   \n",
       "\n",
       "              h3geo      new_id  \n",
       "19  8a2a100d2107fff   216754633  \n",
       "5   8a2a100d2107fff   216754633  \n",
       "6   8a2a100d2107fff   216754633  \n",
       "13  8a2a100d679ffff  1110467645  \n",
       "12  8a2a100d679ffff  1110467645  "
      ]
     },
     "execution_count": 410,
     "metadata": {},
     "output_type": "execute_result"
    }
   ],
   "source": [
    "df.sort_values(by = \"new_id\")[:5]"
   ]
  },
  {
   "cell_type": "markdown",
   "id": "42714a53",
   "metadata": {},
   "source": [
    "# Usage and Impact on Data"
   ]
  },
  {
   "cell_type": "markdown",
   "id": "5f6df7c3",
   "metadata": {},
   "source": [
    "Now we can map all of different values of the same entitity to its unique key. "
   ]
  },
  {
   "cell_type": "code",
   "execution_count": 411,
   "id": "c69fb09e",
   "metadata": {
    "ExecuteTime": {
     "end_time": "2022-08-07T17:16:43.150994Z",
     "start_time": "2022-08-07T17:16:43.113288Z"
    }
   },
   "outputs": [
    {
     "data": {
      "text/html": [
       "<div>\n",
       "<style scoped>\n",
       "    .dataframe tbody tr th:only-of-type {\n",
       "        vertical-align: middle;\n",
       "    }\n",
       "\n",
       "    .dataframe tbody tr th {\n",
       "        vertical-align: top;\n",
       "    }\n",
       "\n",
       "    .dataframe thead th {\n",
       "        text-align: right;\n",
       "    }\n",
       "</style>\n",
       "<table border=\"1\" class=\"dataframe\">\n",
       "  <thead>\n",
       "    <tr style=\"text-align: right;\">\n",
       "      <th></th>\n",
       "      <th>new_id</th>\n",
       "      <th>id_all</th>\n",
       "      <th>name</th>\n",
       "      <th>name_all</th>\n",
       "      <th>delivery_type_all</th>\n",
       "      <th>enabled_status_all</th>\n",
       "      <th>address</th>\n",
       "    </tr>\n",
       "  </thead>\n",
       "  <tbody>\n",
       "    <tr>\n",
       "      <th>0</th>\n",
       "      <td>216754633</td>\n",
       "      <td>[101938, 116843, 100016]</td>\n",
       "      <td>Upland</td>\n",
       "      <td>[Upland, Upland Café]</td>\n",
       "      <td>[restaurant courier, our courier, taxi courier]</td>\n",
       "      <td>[enabled]</td>\n",
       "      <td>345 Park Ave S</td>\n",
       "    </tr>\n",
       "    <tr>\n",
       "      <th>1</th>\n",
       "      <td>1110467645</td>\n",
       "      <td>[100924, 118329]</td>\n",
       "      <td>Charlie Palmer Steak</td>\n",
       "      <td>[Charlie Palmer Steak NYC, Charlie Palmer Steak]</td>\n",
       "      <td>[our courier, taxi courier]</td>\n",
       "      <td>[enabled]</td>\n",
       "      <td>135 42nd St</td>\n",
       "    </tr>\n",
       "    <tr>\n",
       "      <th>2</th>\n",
       "      <td>1246616891</td>\n",
       "      <td>[106832]</td>\n",
       "      <td>The Smith</td>\n",
       "      <td>[The Smith]</td>\n",
       "      <td>[our courier]</td>\n",
       "      <td>[enabled]</td>\n",
       "      <td>1900 Broadway</td>\n",
       "    </tr>\n",
       "    <tr>\n",
       "      <th>3</th>\n",
       "      <td>1773116187</td>\n",
       "      <td>[121805, 102931]</td>\n",
       "      <td>The Smith</td>\n",
       "      <td>[The Smith]</td>\n",
       "      <td>[restaurant courier, our courier]</td>\n",
       "      <td>[enabled]</td>\n",
       "      <td>956 2nd Ave</td>\n",
       "    </tr>\n",
       "    <tr>\n",
       "      <th>4</th>\n",
       "      <td>3640891658</td>\n",
       "      <td>[101504, 114640, 114872, 101502]</td>\n",
       "      <td>The Smith</td>\n",
       "      <td>[The Smith, The Smith's]</td>\n",
       "      <td>[restaurant courier, our courier, taxi courier]</td>\n",
       "      <td>[enabled, disabled]</td>\n",
       "      <td>55 3rd Ave</td>\n",
       "    </tr>\n",
       "    <tr>\n",
       "      <th>5</th>\n",
       "      <td>3935892236</td>\n",
       "      <td>[122001, 102845, 102842, 102837, 100923]</td>\n",
       "      <td>Rubirosa</td>\n",
       "      <td>[Rubirosa, Rubirosa Bar, Rubirosa bar]</td>\n",
       "      <td>[restaurant courier, our courier]</td>\n",
       "      <td>[enabled, disabled]</td>\n",
       "      <td>235 Mulberry St</td>\n",
       "    </tr>\n",
       "    <tr>\n",
       "      <th>6</th>\n",
       "      <td>3997671354</td>\n",
       "      <td>[105964, 108235, 111924]</td>\n",
       "      <td>Bubby's</td>\n",
       "      <td>[Bubby's, Bubbys]</td>\n",
       "      <td>[restaurant courier, our courier, taxi courier]</td>\n",
       "      <td>[enabled]</td>\n",
       "      <td>120 Hudson St</td>\n",
       "    </tr>\n",
       "  </tbody>\n",
       "</table>\n",
       "</div>"
      ],
      "text/plain": [
       "       new_id                                    id_all                  name  \\\n",
       "0   216754633                  [101938, 116843, 100016]                Upland   \n",
       "1  1110467645                          [100924, 118329]  Charlie Palmer Steak   \n",
       "2  1246616891                                  [106832]             The Smith   \n",
       "3  1773116187                          [121805, 102931]             The Smith   \n",
       "4  3640891658          [101504, 114640, 114872, 101502]             The Smith   \n",
       "5  3935892236  [122001, 102845, 102842, 102837, 100923]              Rubirosa   \n",
       "6  3997671354                  [105964, 108235, 111924]               Bubby's   \n",
       "\n",
       "                                           name_all  \\\n",
       "0                             [Upland, Upland Café]   \n",
       "1  [Charlie Palmer Steak NYC, Charlie Palmer Steak]   \n",
       "2                                       [The Smith]   \n",
       "3                                       [The Smith]   \n",
       "4                          [The Smith, The Smith's]   \n",
       "5            [Rubirosa, Rubirosa Bar, Rubirosa bar]   \n",
       "6                                 [Bubby's, Bubbys]   \n",
       "\n",
       "                                 delivery_type_all   enabled_status_all  \\\n",
       "0  [restaurant courier, our courier, taxi courier]            [enabled]   \n",
       "1                      [our courier, taxi courier]            [enabled]   \n",
       "2                                    [our courier]            [enabled]   \n",
       "3                [restaurant courier, our courier]            [enabled]   \n",
       "4  [restaurant courier, our courier, taxi courier]  [enabled, disabled]   \n",
       "5                [restaurant courier, our courier]  [enabled, disabled]   \n",
       "6  [restaurant courier, our courier, taxi courier]            [enabled]   \n",
       "\n",
       "           address  \n",
       "0   345 Park Ave S  \n",
       "1      135 42nd St  \n",
       "2    1900 Broadway  \n",
       "3      956 2nd Ave  \n",
       "4       55 3rd Ave  \n",
       "5  235 Mulberry St  \n",
       "6    120 Hudson St  "
      ]
     },
     "execution_count": 411,
     "metadata": {},
     "output_type": "execute_result"
    }
   ],
   "source": [
    "df_new_rests = df.copy()\n",
    "df_new_rests = df_new_rests.groupby(\"new_id\").agg(\n",
    "    id_all = (\"id\", \"unique\"), \n",
    "    name = (\"name\", \"min\"),\n",
    "    name_all = (\"name\", \"unique\"),\n",
    "    delivery_type_all = (\"delivery_type\", \"unique\"),\n",
    "    enabled_status_all = (\"enabled_status\", \"unique\"),\n",
    "    address = (\"address\", \"min\")\n",
    ").reset_index()\n",
    "df_new_rests"
   ]
  },
  {
   "cell_type": "markdown",
   "id": "152ee6d5",
   "metadata": {
    "ExecuteTime": {
     "end_time": "2022-08-06T21:44:45.129255Z",
     "start_time": "2022-08-06T21:44:45.125197Z"
    }
   },
   "source": [
    "That also has high impact on our business metrics. "
   ]
  },
  {
   "cell_type": "markdown",
   "id": "3e34f64f",
   "metadata": {},
   "source": [
    "## 1) How many restaurants are enabled now regardless its delivery type? "
   ]
  },
  {
   "cell_type": "code",
   "execution_count": 412,
   "id": "812196c9",
   "metadata": {
    "ExecuteTime": {
     "end_time": "2022-08-07T17:16:45.851108Z",
     "start_time": "2022-08-07T17:16:45.842800Z"
    }
   },
   "outputs": [
    {
     "name": "stdout",
     "output_type": "stream",
     "text": [
      "Incorrect answer: 16\n",
      "Correct answer: 7\n"
     ]
    }
   ],
   "source": [
    "#basically we thought that all ids are unique\n",
    "print(\"Incorrect answer\", df_restaurants.query(\"enabled_status == 'enabled'\").shape[0], sep = \": \")\n",
    "\n",
    "#now it's clear that some of the are duplicated: the restaurant is active in case if at least one delivery type is available\n",
    "statuses = np.array(df_new_rests[\"enabled_status_all\"])\n",
    "cnt = 0\n",
    "for j, value in enumerate(statuses):\n",
    "    if \"enabled\" in value:\n",
    "        cnt += 1 \n",
    "    else: \n",
    "        continue\n",
    "        \n",
    "print(\"Correct answer\", cnt, sep = \": \")"
   ]
  },
  {
   "cell_type": "markdown",
   "id": "0f7ab307",
   "metadata": {},
   "source": [
    "## 2) What is the average value of orders count and GMV per restaurant (using all available date period from table with orders)? "
   ]
  },
  {
   "cell_type": "code",
   "execution_count": 413,
   "id": "ce8a4fe2",
   "metadata": {
    "ExecuteTime": {
     "end_time": "2022-08-07T17:16:47.624796Z",
     "start_time": "2022-08-07T17:16:47.583275Z"
    }
   },
   "outputs": [
    {
     "name": "stdout",
     "output_type": "stream",
     "text": [
      "Incorrect answers\n",
      "Average orders count per restaurant: 5.56\n",
      "Average GMV per restaurant: 282.76\n",
      "\n",
      "Correct answers\n",
      "Average orders count per restaurant: 14.29\n",
      "Average GMV per restaurant: 727.09\n"
     ]
    }
   ],
   "source": [
    "#let's calculate it using standart approach\n",
    "df_join = pd.merge(df_restaurants, df_orders, how = \"inner\", left_on = \"id\", right_on = \"restaurant_id\")\n",
    "df_join = df_join.rename(columns = {\"id_y\": \"order_id\", \"id_x\": \"id\"})\n",
    "\n",
    "df_result = df_join.groupby([\"restaurant_id\", \"name\", \"address\"]).agg(\n",
    "orders_count = (\"order_id\", \"count\"), \n",
    "gmv = (\"order_amount\", \"sum\")\n",
    ").reset_index()\n",
    "\n",
    "print (\"Incorrect answers\")\n",
    "print (\"Average orders count per restaurant\", round((sum(df_result[\"orders_count\"]) / df_result.shape[0]), 2), sep = \": \")\n",
    "print (\"Average GMV per restaurant\", round((sum(df_result[\"gmv\"]) / df_result.shape[0]), 2), sep = \": \")\n",
    "\n",
    "print(\"\")\n",
    "\n",
    "#now the same but using unique keys\n",
    "df_join_new = pd.merge(df, df_orders, how = \"inner\", left_on = \"id\", right_on = \"restaurant_id\")\n",
    "df_join_new = df_join_new.rename(columns = {\"id_y\": \"order_id\", \"id_x\": \"id\"})\n",
    "df_result_new = df_join_new.groupby([\"new_id\"]).agg(\n",
    "name = (\"name\", \"min\")\n",
    ", address = (\"address\", \"min\") \n",
    ", orders_count = (\"order_id\", \"count\")\n",
    ", gmv = (\"order_amount\", \"sum\")\n",
    ").reset_index()\n",
    "\n",
    "print (\"Correct answers\")\n",
    "print (\"Average orders count per restaurant\", round((sum(df_result_new[\"orders_count\"]) / df_result_new.shape[0]), 2), sep = \": \")\n",
    "print (\"Average GMV per restaurant\", round((sum(df_result_new[\"gmv\"]) / df_result_new.shape[0]), 2), sep = \": \")\n"
   ]
  },
  {
   "cell_type": "markdown",
   "id": "ee3dcf93",
   "metadata": {},
   "source": [
    "## 3) I need full statistics of restaurants performance."
   ]
  },
  {
   "cell_type": "markdown",
   "id": "5e52168d",
   "metadata": {},
   "source": [
    "Here we will have the result:"
   ]
  },
  {
   "cell_type": "code",
   "execution_count": 414,
   "id": "82cc003e",
   "metadata": {
    "ExecuteTime": {
     "end_time": "2022-08-07T17:16:49.690230Z",
     "start_time": "2022-08-07T17:16:49.680425Z"
    }
   },
   "outputs": [
    {
     "data": {
      "text/html": [
       "<div>\n",
       "<style scoped>\n",
       "    .dataframe tbody tr th:only-of-type {\n",
       "        vertical-align: middle;\n",
       "    }\n",
       "\n",
       "    .dataframe tbody tr th {\n",
       "        vertical-align: top;\n",
       "    }\n",
       "\n",
       "    .dataframe thead th {\n",
       "        text-align: right;\n",
       "    }\n",
       "</style>\n",
       "<table border=\"1\" class=\"dataframe\">\n",
       "  <thead>\n",
       "    <tr style=\"text-align: right;\">\n",
       "      <th></th>\n",
       "      <th>new_id</th>\n",
       "      <th>name</th>\n",
       "      <th>address</th>\n",
       "      <th>orders_count</th>\n",
       "      <th>gmv</th>\n",
       "    </tr>\n",
       "  </thead>\n",
       "  <tbody>\n",
       "    <tr>\n",
       "      <th>4</th>\n",
       "      <td>3640891658</td>\n",
       "      <td>The Smith</td>\n",
       "      <td>55 3rd Ave</td>\n",
       "      <td>25</td>\n",
       "      <td>1382.18</td>\n",
       "    </tr>\n",
       "    <tr>\n",
       "      <th>3</th>\n",
       "      <td>1773116187</td>\n",
       "      <td>The Smith</td>\n",
       "      <td>956 2nd Ave</td>\n",
       "      <td>22</td>\n",
       "      <td>1088.43</td>\n",
       "    </tr>\n",
       "    <tr>\n",
       "      <th>5</th>\n",
       "      <td>3935892236</td>\n",
       "      <td>Rubirosa</td>\n",
       "      <td>235 Mulberry St</td>\n",
       "      <td>17</td>\n",
       "      <td>1021.47</td>\n",
       "    </tr>\n",
       "    <tr>\n",
       "      <th>0</th>\n",
       "      <td>216754633</td>\n",
       "      <td>Upland</td>\n",
       "      <td>345 Park Ave S</td>\n",
       "      <td>16</td>\n",
       "      <td>545.72</td>\n",
       "    </tr>\n",
       "    <tr>\n",
       "      <th>6</th>\n",
       "      <td>3997671354</td>\n",
       "      <td>Bubby's</td>\n",
       "      <td>120 Hudson St</td>\n",
       "      <td>11</td>\n",
       "      <td>585.86</td>\n",
       "    </tr>\n",
       "    <tr>\n",
       "      <th>1</th>\n",
       "      <td>1110467645</td>\n",
       "      <td>Charlie Palmer Steak</td>\n",
       "      <td>135 42nd St</td>\n",
       "      <td>6</td>\n",
       "      <td>248.67</td>\n",
       "    </tr>\n",
       "    <tr>\n",
       "      <th>2</th>\n",
       "      <td>1246616891</td>\n",
       "      <td>The Smith</td>\n",
       "      <td>1900 Broadway</td>\n",
       "      <td>3</td>\n",
       "      <td>217.27</td>\n",
       "    </tr>\n",
       "  </tbody>\n",
       "</table>\n",
       "</div>"
      ],
      "text/plain": [
       "       new_id                  name          address  orders_count      gmv\n",
       "4  3640891658             The Smith       55 3rd Ave            25  1382.18\n",
       "3  1773116187             The Smith      956 2nd Ave            22  1088.43\n",
       "5  3935892236              Rubirosa  235 Mulberry St            17  1021.47\n",
       "0   216754633                Upland   345 Park Ave S            16   545.72\n",
       "6  3997671354               Bubby's    120 Hudson St            11   585.86\n",
       "1  1110467645  Charlie Palmer Steak      135 42nd St             6   248.67\n",
       "2  1246616891             The Smith    1900 Broadway             3   217.27"
      ]
     },
     "execution_count": 414,
     "metadata": {},
     "output_type": "execute_result"
    }
   ],
   "source": [
    "df_result_new.sort_values(by = \"orders_count\", ascending = False)"
   ]
  },
  {
   "cell_type": "markdown",
   "id": "a4f2e6cc",
   "metadata": {},
   "source": [
    "Instead of this one:"
   ]
  },
  {
   "cell_type": "code",
   "execution_count": 415,
   "id": "5000aacb",
   "metadata": {
    "ExecuteTime": {
     "end_time": "2022-08-07T17:16:51.825751Z",
     "start_time": "2022-08-07T17:16:51.815381Z"
    }
   },
   "outputs": [
    {
     "data": {
      "text/html": [
       "<div>\n",
       "<style scoped>\n",
       "    .dataframe tbody tr th:only-of-type {\n",
       "        vertical-align: middle;\n",
       "    }\n",
       "\n",
       "    .dataframe tbody tr th {\n",
       "        vertical-align: top;\n",
       "    }\n",
       "\n",
       "    .dataframe thead th {\n",
       "        text-align: right;\n",
       "    }\n",
       "</style>\n",
       "<table border=\"1\" class=\"dataframe\">\n",
       "  <thead>\n",
       "    <tr style=\"text-align: right;\">\n",
       "      <th></th>\n",
       "      <th>restaurant_id</th>\n",
       "      <th>name</th>\n",
       "      <th>address</th>\n",
       "      <th>orders_count</th>\n",
       "      <th>gmv</th>\n",
       "    </tr>\n",
       "  </thead>\n",
       "  <tbody>\n",
       "    <tr>\n",
       "      <th>16</th>\n",
       "      <td>121805</td>\n",
       "      <td>The Smith</td>\n",
       "      <td>956 2nd Ave</td>\n",
       "      <td>20</td>\n",
       "      <td>977.97</td>\n",
       "    </tr>\n",
       "    <tr>\n",
       "      <th>3</th>\n",
       "      <td>101938</td>\n",
       "      <td>Upland</td>\n",
       "      <td>345 Park Ave S</td>\n",
       "      <td>9</td>\n",
       "      <td>333.44</td>\n",
       "    </tr>\n",
       "    <tr>\n",
       "      <th>6</th>\n",
       "      <td>102845</td>\n",
       "      <td>Rubirosa Bar</td>\n",
       "      <td>235 Mulberry St</td>\n",
       "      <td>9</td>\n",
       "      <td>502.69</td>\n",
       "    </tr>\n",
       "    <tr>\n",
       "      <th>2</th>\n",
       "      <td>101504</td>\n",
       "      <td>The Smith</td>\n",
       "      <td>55 3rd Ave</td>\n",
       "      <td>8</td>\n",
       "      <td>336.86</td>\n",
       "    </tr>\n",
       "    <tr>\n",
       "      <th>12</th>\n",
       "      <td>114640</td>\n",
       "      <td>The Smith</td>\n",
       "      <td>55 Third Ave</td>\n",
       "      <td>7</td>\n",
       "      <td>413.39</td>\n",
       "    </tr>\n",
       "    <tr>\n",
       "      <th>14</th>\n",
       "      <td>116843</td>\n",
       "      <td>Upland Café</td>\n",
       "      <td>345 Park Ave S</td>\n",
       "      <td>7</td>\n",
       "      <td>212.28</td>\n",
       "    </tr>\n",
       "    <tr>\n",
       "      <th>1</th>\n",
       "      <td>101502</td>\n",
       "      <td>The Smith</td>\n",
       "      <td>55 3rd Ave</td>\n",
       "      <td>7</td>\n",
       "      <td>470.81</td>\n",
       "    </tr>\n",
       "    <tr>\n",
       "      <th>17</th>\n",
       "      <td>122001</td>\n",
       "      <td>Rubirosa</td>\n",
       "      <td>235 Mulberry St</td>\n",
       "      <td>4</td>\n",
       "      <td>288.65</td>\n",
       "    </tr>\n",
       "    <tr>\n",
       "      <th>15</th>\n",
       "      <td>118329</td>\n",
       "      <td>Charlie Palmer Steak</td>\n",
       "      <td>135 42nd St</td>\n",
       "      <td>4</td>\n",
       "      <td>173.82</td>\n",
       "    </tr>\n",
       "    <tr>\n",
       "      <th>8</th>\n",
       "      <td>105964</td>\n",
       "      <td>Bubby's</td>\n",
       "      <td>120 Hudson St</td>\n",
       "      <td>4</td>\n",
       "      <td>243.01</td>\n",
       "    </tr>\n",
       "    <tr>\n",
       "      <th>11</th>\n",
       "      <td>111924</td>\n",
       "      <td>Bubbys</td>\n",
       "      <td>120 Hudson St</td>\n",
       "      <td>4</td>\n",
       "      <td>242.97</td>\n",
       "    </tr>\n",
       "    <tr>\n",
       "      <th>13</th>\n",
       "      <td>114872</td>\n",
       "      <td>The Smith's</td>\n",
       "      <td>55 3rd Ave</td>\n",
       "      <td>3</td>\n",
       "      <td>161.12</td>\n",
       "    </tr>\n",
       "    <tr>\n",
       "      <th>9</th>\n",
       "      <td>106832</td>\n",
       "      <td>The Smith</td>\n",
       "      <td>1900 Broadway</td>\n",
       "      <td>3</td>\n",
       "      <td>217.27</td>\n",
       "    </tr>\n",
       "    <tr>\n",
       "      <th>10</th>\n",
       "      <td>108235</td>\n",
       "      <td>Bubby's</td>\n",
       "      <td>120 Hudson Street</td>\n",
       "      <td>3</td>\n",
       "      <td>99.88</td>\n",
       "    </tr>\n",
       "    <tr>\n",
       "      <th>7</th>\n",
       "      <td>102931</td>\n",
       "      <td>The Smith</td>\n",
       "      <td>956 2nd Ave</td>\n",
       "      <td>2</td>\n",
       "      <td>110.46</td>\n",
       "    </tr>\n",
       "    <tr>\n",
       "      <th>5</th>\n",
       "      <td>102842</td>\n",
       "      <td>Rubirosa bar</td>\n",
       "      <td>235 Mulberry St</td>\n",
       "      <td>2</td>\n",
       "      <td>127.55</td>\n",
       "    </tr>\n",
       "    <tr>\n",
       "      <th>4</th>\n",
       "      <td>102837</td>\n",
       "      <td>Rubirosa bar</td>\n",
       "      <td>235 Mulberry St</td>\n",
       "      <td>2</td>\n",
       "      <td>102.58</td>\n",
       "    </tr>\n",
       "    <tr>\n",
       "      <th>0</th>\n",
       "      <td>100924</td>\n",
       "      <td>Charlie Palmer Steak NYC</td>\n",
       "      <td>135 W 42nd St</td>\n",
       "      <td>2</td>\n",
       "      <td>74.85</td>\n",
       "    </tr>\n",
       "  </tbody>\n",
       "</table>\n",
       "</div>"
      ],
      "text/plain": [
       "    restaurant_id                      name            address  orders_count  \\\n",
       "16         121805                 The Smith        956 2nd Ave            20   \n",
       "3          101938                    Upland     345 Park Ave S             9   \n",
       "6          102845              Rubirosa Bar    235 Mulberry St             9   \n",
       "2          101504                 The Smith         55 3rd Ave             8   \n",
       "12         114640                 The Smith       55 Third Ave             7   \n",
       "14         116843               Upland Café     345 Park Ave S             7   \n",
       "1          101502                 The Smith         55 3rd Ave             7   \n",
       "17         122001                  Rubirosa    235 Mulberry St             4   \n",
       "15         118329      Charlie Palmer Steak        135 42nd St             4   \n",
       "8          105964                   Bubby's      120 Hudson St             4   \n",
       "11         111924                    Bubbys      120 Hudson St             4   \n",
       "13         114872               The Smith's         55 3rd Ave             3   \n",
       "9          106832                 The Smith      1900 Broadway             3   \n",
       "10         108235                   Bubby's  120 Hudson Street             3   \n",
       "7          102931                 The Smith        956 2nd Ave             2   \n",
       "5          102842              Rubirosa bar    235 Mulberry St             2   \n",
       "4          102837              Rubirosa bar    235 Mulberry St             2   \n",
       "0          100924  Charlie Palmer Steak NYC      135 W 42nd St             2   \n",
       "\n",
       "       gmv  \n",
       "16  977.97  \n",
       "3   333.44  \n",
       "6   502.69  \n",
       "2   336.86  \n",
       "12  413.39  \n",
       "14  212.28  \n",
       "1   470.81  \n",
       "17  288.65  \n",
       "15  173.82  \n",
       "8   243.01  \n",
       "11  242.97  \n",
       "13  161.12  \n",
       "9   217.27  \n",
       "10   99.88  \n",
       "7   110.46  \n",
       "5   127.55  \n",
       "4   102.58  \n",
       "0    74.85  "
      ]
     },
     "execution_count": 415,
     "metadata": {},
     "output_type": "execute_result"
    }
   ],
   "source": [
    "df_result.sort_values(by = \"orders_count\", ascending = False)"
   ]
  }
 ],
 "metadata": {
  "kernelspec": {
   "display_name": "Python 3",
   "language": "python",
   "name": "python3"
  },
  "language_info": {
   "codemirror_mode": {
    "name": "ipython",
    "version": 3
   },
   "file_extension": ".py",
   "mimetype": "text/x-python",
   "name": "python",
   "nbconvert_exporter": "python",
   "pygments_lexer": "ipython3",
   "version": "3.7.5"
  }
 },
 "nbformat": 4,
 "nbformat_minor": 5
}
